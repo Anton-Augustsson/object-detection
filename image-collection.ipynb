{
 "cells": [
  {
   "cell_type": "markdown",
   "metadata": {},
   "source": [
    "# 1. Import Dependencies"
   ]
  },
  {
   "cell_type": "code",
   "execution_count": 1,
   "metadata": {},
   "outputs": [
    {
     "name": "stdout",
     "output_type": "stream",
     "text": [
      "Requirement already satisfied: opencv-python in ./tfod/lib64/python3.11/site-packages (4.8.1.78)\n",
      "Requirement already satisfied: numpy>=1.21.2 in ./tfod/lib64/python3.11/site-packages (from opencv-python) (1.26.2)\n",
      "Note: you may need to restart the kernel to use updated packages.\n"
     ]
    }
   ],
   "source": [
    "%pip install opencv-python"
   ]
  },
  {
   "cell_type": "code",
   "execution_count": 2,
   "metadata": {},
   "outputs": [],
   "source": [
    "# Import opencv\n",
    "import cv2 \n",
    "\n",
    "# Import uuid\n",
    "import uuid\n",
    "\n",
    "# Import Operating System\n",
    "import os\n",
    "\n",
    "# Import time\n",
    "import time"
   ]
  },
  {
   "cell_type": "markdown",
   "metadata": {},
   "source": [
    "# 2. Define Images to Collect"
   ]
  },
  {
   "cell_type": "code",
   "execution_count": 3,
   "metadata": {},
   "outputs": [],
   "source": [
    "labels = ['thumbsup', 'thumbsdown', 'thankyou', 'livelong']\n",
    "number_imgs = 20"
   ]
  },
  {
   "cell_type": "markdown",
   "metadata": {},
   "source": [
    "# 3. Setup Folders "
   ]
  },
  {
   "cell_type": "code",
   "execution_count": 4,
   "metadata": {},
   "outputs": [],
   "source": [
    "IMAGES_PATH = os.path.join('Tensorflow', 'workspace', 'images', 'collectedimages')"
   ]
  },
  {
   "cell_type": "code",
   "execution_count": 5,
   "metadata": {},
   "outputs": [],
   "source": [
    "if not os.path.exists(IMAGES_PATH):\n",
    "    print(\"create Tensorflow/workspace/images/collectedimages/ folder\")\n",
    "for label in labels:\n",
    "    path = os.path.join(IMAGES_PATH, label)\n",
    "    if not os.path.exists(path):\n",
    "        print(f\"create Tensorflow/workspace/images/collectedimages/{label} folder\")"
   ]
  },
  {
   "cell_type": "markdown",
   "metadata": {},
   "source": [
    "# 4. Capture Images"
   ]
  },
  {
   "cell_type": "code",
   "execution_count": 16,
   "metadata": {},
   "outputs": [
    {
     "name": "stdout",
     "output_type": "stream",
     "text": [
      "Collecting images for thumbsup\n",
      "Collecting image 0\n",
      "Collecting image 1\n",
      "Collecting image 2\n",
      "Collecting image 3\n",
      "Collecting image 4\n",
      "Collecting image 5\n",
      "Collecting image 6\n",
      "Collecting image 7\n",
      "Collecting image 8\n",
      "Collecting image 9\n",
      "Collecting image 10\n",
      "Collecting image 11\n",
      "Collecting image 12\n",
      "Collecting image 13\n",
      "Collecting image 14\n",
      "Collecting image 15\n",
      "Collecting image 16\n",
      "Collecting image 17\n",
      "Collecting image 18\n",
      "Collecting image 19\n",
      "Collecting images for thumbsdown\n",
      "Collecting image 0\n",
      "Collecting image 1\n",
      "Collecting image 2\n",
      "Collecting image 3\n",
      "Collecting image 4\n",
      "Collecting image 5\n",
      "Collecting image 6\n",
      "Collecting image 7\n",
      "Collecting image 8\n",
      "Collecting image 9\n",
      "Collecting image 10\n",
      "Collecting image 11\n",
      "Collecting image 12\n",
      "Collecting image 13\n",
      "Collecting image 14\n",
      "Collecting image 15\n",
      "Collecting image 16\n",
      "Collecting image 17\n",
      "Collecting image 18\n",
      "Collecting image 19\n",
      "Collecting images for thankyou\n",
      "Collecting image 0\n",
      "Collecting image 1\n",
      "Collecting image 2\n",
      "Collecting image 3\n",
      "Collecting image 4\n",
      "Collecting image 5\n",
      "Collecting image 6\n",
      "Collecting image 7\n",
      "Collecting image 8\n",
      "Collecting image 9\n",
      "Collecting image 10\n",
      "Collecting image 11\n",
      "Collecting image 12\n",
      "Collecting image 13\n",
      "Collecting image 14\n",
      "Collecting image 15\n",
      "Collecting image 16\n",
      "Collecting image 17\n",
      "Collecting image 18\n",
      "Collecting image 19\n",
      "Collecting images for livelong\n",
      "Collecting image 0\n",
      "Collecting image 1\n",
      "Collecting image 2\n",
      "Collecting image 3\n",
      "Collecting image 4\n",
      "Collecting image 5\n",
      "Collecting image 6\n",
      "Collecting image 7\n",
      "Collecting image 8\n",
      "Collecting image 9\n",
      "Collecting image 10\n",
      "Collecting image 11\n",
      "Collecting image 12\n",
      "Collecting image 13\n",
      "Collecting image 14\n",
      "Collecting image 15\n",
      "Collecting image 16\n",
      "Collecting image 17\n",
      "Collecting image 18\n",
      "Collecting image 19\n"
     ]
    }
   ],
   "source": [
    "for label in labels:\n",
    "    print('Collecting images for {}'.format(label))\n",
    "    time.sleep(6)\n",
    "    cap = cv2.VideoCapture(0)\n",
    "    for imgnum in range(number_imgs):\n",
    "        print('Collecting image {}'.format(imgnum))\n",
    "        ret, frame = cap.read()\n",
    "        imgname = os.path.join(IMAGES_PATH,label,label+'.'+'{}.jpg'.format(str(uuid.uuid1())))\n",
    "        cv2.imwrite(imgname, frame)\n",
    "        #cv2.imshow('frame', frame)\n",
    "        time.sleep(0.1) # if this is high it will cause old images to appere\n",
    "\n",
    "    cap.release()\n",
    "    cv2.destroyAllWindows()"
   ]
  },
  {
   "cell_type": "markdown",
   "metadata": {},
   "source": [
    "# 5. Image Labelling"
   ]
  },
  {
   "cell_type": "code",
   "execution_count": 6,
   "metadata": {},
   "outputs": [
    {
     "name": "stdout",
     "output_type": "stream",
     "text": [
      "Collecting pyqt5\n",
      "  Downloading PyQt5-5.15.10-cp37-abi3-manylinux_2_17_x86_64.whl.metadata (2.1 kB)\n",
      "Collecting lxml\n",
      "  Downloading lxml-4.9.3-cp311-cp311-manylinux_2_28_x86_64.whl.metadata (3.8 kB)\n",
      "Collecting PyQt5-sip<13,>=12.13 (from pyqt5)\n",
      "  Downloading PyQt5_sip-12.13.0-cp311-cp311-manylinux_2_5_x86_64.manylinux1_x86_64.whl.metadata (504 bytes)\n",
      "Collecting PyQt5-Qt5>=5.15.2 (from pyqt5)\n",
      "  Downloading PyQt5_Qt5-5.15.2-py3-none-manylinux2014_x86_64.whl (59.9 MB)\n",
      "\u001b[2K     \u001b[90m━━━━━━━━━━━━━━━━━━━━━━━━━━━━━━━━━━━━━━━━\u001b[0m \u001b[32m59.9/59.9 MB\u001b[0m \u001b[31m20.2 MB/s\u001b[0m eta \u001b[36m0:00:00\u001b[0m00:01\u001b[0m00:01\u001b[0m\n",
      "\u001b[?25hDownloading PyQt5-5.15.10-cp37-abi3-manylinux_2_17_x86_64.whl (8.2 MB)\n",
      "\u001b[2K   \u001b[90m━━━━━━━━━━━━━━━━━━━━━━━━━━━━━━━━━━━━━━━━\u001b[0m \u001b[32m8.2/8.2 MB\u001b[0m \u001b[31m26.6 MB/s\u001b[0m eta \u001b[36m0:00:00\u001b[0ma \u001b[36m0:00:01\u001b[0m\n",
      "\u001b[?25hDownloading lxml-4.9.3-cp311-cp311-manylinux_2_28_x86_64.whl (7.9 MB)\n",
      "\u001b[2K   \u001b[90m━━━━━━━━━━━━━━━━━━━━━━━━━━━━━━━━━━━━━━━━\u001b[0m \u001b[32m7.9/7.9 MB\u001b[0m \u001b[31m23.8 MB/s\u001b[0m eta \u001b[36m0:00:00\u001b[0m00:01\u001b[0m00:01\u001b[0m\n",
      "\u001b[?25hDownloading PyQt5_sip-12.13.0-cp311-cp311-manylinux_2_5_x86_64.manylinux1_x86_64.whl (346 kB)\n",
      "\u001b[2K   \u001b[90m━━━━━━━━━━━━━━━━━━━━━━━━━━━━━━━━━━━━━━━━\u001b[0m \u001b[32m346.7/346.7 kB\u001b[0m \u001b[31m34.1 MB/s\u001b[0m eta \u001b[36m0:00:00\u001b[0m\n",
      "\u001b[?25hInstalling collected packages: PyQt5-Qt5, PyQt5-sip, lxml, pyqt5\n",
      "Successfully installed PyQt5-Qt5-5.15.2 PyQt5-sip-12.13.0 lxml-4.9.3 pyqt5-5.15.10\n",
      "Note: you may need to restart the kernel to use updated packages.\n"
     ]
    }
   ],
   "source": [
    "%pip install --upgrade pyqt5 lxml"
   ]
  },
  {
   "cell_type": "code",
   "execution_count": 8,
   "metadata": {},
   "outputs": [],
   "source": [
    "LABELIMG_PATH = os.path.join('Tensorflow', 'labelimg')"
   ]
  },
  {
   "cell_type": "code",
   "execution_count": 10,
   "metadata": {},
   "outputs": [],
   "source": [
    "if not os.path.exists(LABELIMG_PATH):\n",
    "    print(f\"create {LABELIMG_PATH} folder\")\n",
    "\n",
    "    LABELIMG_GIT_PATH = os.path.join('Tensorflow', '.git')\n",
    "    if not os.path.exists(LABELIMG_GIT_PATH):\n",
    "        print(f\"create {LABELIMG_GIT_PATH} folder\")\n",
    "        print(f\"Use: git clone https://github.com/tzutalin/labelImg {LABELIMG_PATH}\")"
   ]
  },
  {
   "cell_type": "code",
   "execution_count": 11,
   "metadata": {},
   "outputs": [
    {
     "name": "stdout",
     "output_type": "stream",
     "text": [
      "Build: (cd Tensorflow/labelimg && make gt5py3)\n",
      "Start: (cd Tensorflow/labelimg && python labelImg.py)\n"
     ]
    }
   ],
   "source": [
    "print(f\"Build: (cd {LABELIMG_PATH} && make gt5py3)\")\n",
    "print(f\"Start: (cd {LABELIMG_PATH} && python labelImg.py)\")"
   ]
  },
  {
   "cell_type": "markdown",
   "metadata": {},
   "source": [
    "# 6. Move them into a Training and Testing Partition"
   ]
  },
  {
   "cell_type": "code",
   "execution_count": 16,
   "metadata": {},
   "outputs": [],
   "source": [
    "import os\n",
    "import shutil\n",
    "import random"
   ]
  },
  {
   "cell_type": "code",
   "execution_count": 19,
   "metadata": {},
   "outputs": [
    {
     "name": "stdout",
     "output_type": "stream",
     "text": [
      "/home/anau/Dev/object-detection/Tensorflow/workspace/images/collectedimages/thumbsup\n",
      "/home/anau/Dev/object-detection/Tensorflow/workspace/images/train\n",
      "/home/anau/Dev/object-detection/Tensorflow/workspace/images/test\n"
     ]
    }
   ],
   "source": [
    "IMAGES_W_PATH = os.path.join('Tensorflow', 'workspace', 'images')\n",
    "train_path = os.path.abspath(os.path.join(IMAGES_W_PATH, 'train'))\n",
    "test_path = os.path.abspath(os.path.join(IMAGES_W_PATH, 'test'))\n",
    "print(train_path)\n",
    "print(test_path)"
   ]
  },
  {
   "cell_type": "code",
   "execution_count": 25,
   "metadata": {},
   "outputs": [
    {
     "name": "stdout",
     "output_type": "stream",
     "text": [
      "Deleted: /home/anau/Dev/object-detection/Tensorflow/workspace/images/train/livelong.d9f9751e-8c80-11ee-8fc2-a029425aef06.jpg\n",
      "Deleted: /home/anau/Dev/object-detection/Tensorflow/workspace/images/train/livelong.d9f9751e-8c80-11ee-8fc2-a029425aef06.xml\n",
      "Deleted: /home/anau/Dev/object-detection/Tensorflow/workspace/images/train/livelong.f96712f8-8c80-11ee-8fc2-a029425aef06.jpg\n",
      "Deleted: /home/anau/Dev/object-detection/Tensorflow/workspace/images/train/livelong.f96712f8-8c80-11ee-8fc2-a029425aef06.xml\n",
      "Deleted: /home/anau/Dev/object-detection/Tensorflow/workspace/images/train/livelong.f87b848c-8c80-11ee-8fc2-a029425aef06.jpg\n",
      "Deleted: /home/anau/Dev/object-detection/Tensorflow/workspace/images/train/livelong.f87b848c-8c80-11ee-8fc2-a029425aef06.xml\n",
      "Deleted: /home/anau/Dev/object-detection/Tensorflow/workspace/images/train/livelong.f902e5f8-8c80-11ee-8fc2-a029425aef06.jpg\n",
      "Deleted: /home/anau/Dev/object-detection/Tensorflow/workspace/images/train/livelong.f902e5f8-8c80-11ee-8fc2-a029425aef06.xml\n",
      "Deleted: /home/anau/Dev/object-detection/Tensorflow/workspace/images/train/livelong.d9d60444-8c80-11ee-8fc2-a029425aef06.jpg\n",
      "Deleted: /home/anau/Dev/object-detection/Tensorflow/workspace/images/train/livelong.d9d60444-8c80-11ee-8fc2-a029425aef06.xml\n",
      "Deleted: /home/anau/Dev/object-detection/Tensorflow/workspace/images/test/livelong.d9e7c92c-8c80-11ee-8fc2-a029425aef06.jpg\n",
      "Deleted: /home/anau/Dev/object-detection/Tensorflow/workspace/images/test/livelong.d9e7c92c-8c80-11ee-8fc2-a029425aef06.xml\n",
      "Deleted: /home/anau/Dev/object-detection/Tensorflow/workspace/images/test/livelong.da0aa42e-8c80-11ee-8fc2-a029425aef06.jpg\n",
      "Deleted: /home/anau/Dev/object-detection/Tensorflow/workspace/images/test/livelong.da0aa42e-8c80-11ee-8fc2-a029425aef06.xml\n",
      "Deleted: /home/anau/Dev/object-detection/Tensorflow/workspace/images/test/livelong.da1bef90-8c80-11ee-8fc2-a029425aef06.jpg\n",
      "Deleted: /home/anau/Dev/object-detection/Tensorflow/workspace/images/test/livelong.da1bef90-8c80-11ee-8fc2-a029425aef06.xml\n",
      "Deleted: /home/anau/Dev/object-detection/Tensorflow/workspace/images/test/livelong.f86a51da-8c80-11ee-8fc2-a029425aef06.jpg\n",
      "Deleted: /home/anau/Dev/object-detection/Tensorflow/workspace/images/test/livelong.f86a51da-8c80-11ee-8fc2-a029425aef06.xml\n",
      "Deleted: /home/anau/Dev/object-detection/Tensorflow/workspace/images/test/livelong.f88d476c-8c80-11ee-8fc2-a029425aef06.jpg\n",
      "Deleted: /home/anau/Dev/object-detection/Tensorflow/workspace/images/test/livelong.f88d476c-8c80-11ee-8fc2-a029425aef06.xml\n",
      "Deleted: /home/anau/Dev/object-detection/Tensorflow/workspace/images/test/livelong.f89e9972-8c80-11ee-8fc2-a029425aef06.jpg\n",
      "Deleted: /home/anau/Dev/object-detection/Tensorflow/workspace/images/test/livelong.f89e9972-8c80-11ee-8fc2-a029425aef06.xml\n",
      "Deleted: /home/anau/Dev/object-detection/Tensorflow/workspace/images/test/livelong.f8aeb87a-8c80-11ee-8fc2-a029425aef06.jpg\n",
      "Deleted: /home/anau/Dev/object-detection/Tensorflow/workspace/images/test/livelong.f8aeb87a-8c80-11ee-8fc2-a029425aef06.xml\n",
      "Deleted: /home/anau/Dev/object-detection/Tensorflow/workspace/images/test/livelong.f8bfe0fa-8c80-11ee-8fc2-a029425aef06.jpg\n",
      "Deleted: /home/anau/Dev/object-detection/Tensorflow/workspace/images/test/livelong.f8bfe0fa-8c80-11ee-8fc2-a029425aef06.xml\n",
      "Deleted: /home/anau/Dev/object-detection/Tensorflow/workspace/images/test/livelong.f8d09a26-8c80-11ee-8fc2-a029425aef06.jpg\n",
      "Deleted: /home/anau/Dev/object-detection/Tensorflow/workspace/images/test/livelong.f8d09a26-8c80-11ee-8fc2-a029425aef06.xml\n",
      "Deleted: /home/anau/Dev/object-detection/Tensorflow/workspace/images/test/livelong.f8e1712a-8c80-11ee-8fc2-a029425aef06.jpg\n",
      "Deleted: /home/anau/Dev/object-detection/Tensorflow/workspace/images/test/livelong.f8e1712a-8c80-11ee-8fc2-a029425aef06.xml\n",
      "Deleted: /home/anau/Dev/object-detection/Tensorflow/workspace/images/test/livelong.f8f25544-8c80-11ee-8fc2-a029425aef06.jpg\n",
      "Deleted: /home/anau/Dev/object-detection/Tensorflow/workspace/images/test/livelong.f8f25544-8c80-11ee-8fc2-a029425aef06.xml\n",
      "Deleted: /home/anau/Dev/object-detection/Tensorflow/workspace/images/test/livelong.f913b2ac-8c80-11ee-8fc2-a029425aef06.jpg\n",
      "Deleted: /home/anau/Dev/object-detection/Tensorflow/workspace/images/test/livelong.f913b2ac-8c80-11ee-8fc2-a029425aef06.xml\n",
      "Deleted: /home/anau/Dev/object-detection/Tensorflow/workspace/images/test/livelong.f924464e-8c80-11ee-8fc2-a029425aef06.jpg\n",
      "Deleted: /home/anau/Dev/object-detection/Tensorflow/workspace/images/test/livelong.f924464e-8c80-11ee-8fc2-a029425aef06.xml\n",
      "Deleted: /home/anau/Dev/object-detection/Tensorflow/workspace/images/test/livelong.f935158c-8c80-11ee-8fc2-a029425aef06.jpg\n",
      "Deleted: /home/anau/Dev/object-detection/Tensorflow/workspace/images/test/livelong.f935158c-8c80-11ee-8fc2-a029425aef06.xml\n",
      "Deleted: /home/anau/Dev/object-detection/Tensorflow/workspace/images/test/livelong.f94661e8-8c80-11ee-8fc2-a029425aef06.jpg\n",
      "Deleted: /home/anau/Dev/object-detection/Tensorflow/workspace/images/test/livelong.f94661e8-8c80-11ee-8fc2-a029425aef06.xml\n",
      "Deleted: /home/anau/Dev/object-detection/Tensorflow/workspace/images/test/livelong.f956b6ba-8c80-11ee-8fc2-a029425aef06.jpg\n",
      "Deleted: /home/anau/Dev/object-detection/Tensorflow/workspace/images/test/livelong.f956b6ba-8c80-11ee-8fc2-a029425aef06.xml\n",
      "Deleted: /home/anau/Dev/object-detection/Tensorflow/workspace/images/test/livelong.f9775758-8c80-11ee-8fc2-a029425aef06.jpg\n",
      "Deleted: /home/anau/Dev/object-detection/Tensorflow/workspace/images/test/livelong.f9775758-8c80-11ee-8fc2-a029425aef06.xml\n",
      "Deleted: /home/anau/Dev/object-detection/Tensorflow/workspace/images/test/livelong.f98934d2-8c80-11ee-8fc2-a029425aef06.jpg\n",
      "Deleted: /home/anau/Dev/object-detection/Tensorflow/workspace/images/test/livelong.f98934d2-8c80-11ee-8fc2-a029425aef06.xml\n",
      "Deleted: /home/anau/Dev/object-detection/Tensorflow/workspace/images/test/livelong.f999895e-8c80-11ee-8fc2-a029425aef06.jpg\n",
      "Deleted: /home/anau/Dev/object-detection/Tensorflow/workspace/images/test/livelong.f999895e-8c80-11ee-8fc2-a029425aef06.xml\n",
      "Deleted: /home/anau/Dev/object-detection/Tensorflow/workspace/images/test/livelong.f9aa10a8-8c80-11ee-8fc2-a029425aef06.jpg\n",
      "Deleted: /home/anau/Dev/object-detection/Tensorflow/workspace/images/test/livelong.f9aa10a8-8c80-11ee-8fc2-a029425aef06.xml\n"
     ]
    }
   ],
   "source": [
    "def delete_all_files(folder_path):\n",
    "    # Iterate through all files in the folder\n",
    "    for filename in os.listdir(folder_path):\n",
    "        file_path = os.path.join(folder_path, filename)\n",
    "        \n",
    "        # Check if it's a file (not a directory)\n",
    "        if os.path.isfile(file_path):\n",
    "            # Delete the file\n",
    "            os.remove(file_path)\n",
    "            print(f\"Deleted: {file_path}\")\n",
    "\n",
    "delete_all_files(train_path)\n",
    "delete_all_files(test_path)"
   ]
  },
  {
   "cell_type": "code",
   "execution_count": 26,
   "metadata": {},
   "outputs": [],
   "source": [
    "\n",
    "def get_file_pairs(directory):\n",
    "    file_pairs = []\n",
    "    for filename in os.listdir(directory):\n",
    "        name, extension = os.path.splitext(filename)\n",
    "        if extension.lower() == '.jpg':\n",
    "            xml_file = os.path.join(directory, name + '.xml')\n",
    "            if os.path.exists(xml_file):\n",
    "                file_pairs.append((os.path.join(directory, name)))\n",
    "    return file_pairs\n",
    "\n",
    "def random_copy(file_pairs, destination_folder_train, destination_folder_test, percentage):\n",
    "    num_files_to_copy = int(len(file_pairs) * percentage)\n",
    "    selected_pairs = random.sample(file_pairs, num_files_to_copy)\n",
    "    not_selected_pairs = [file for file in file_pairs if file not in selected_pairs]\n",
    "\n",
    "    for file in selected_pairs:\n",
    "        shutil.copy(file + '.jpg', destination_folder_train)\n",
    "        shutil.copy(file + '.xml', destination_folder_train)\n",
    "\n",
    "    for file in not_selected_pairs:\n",
    "        shutil.copy(file + '.jpg', destination_folder_test)\n",
    "        shutil.copy(file + '.xml', destination_folder_test)\n",
    "\n",
    "file_pairs = []\n",
    "for label in labels:\n",
    "    path = os.path.abspath(os.path.join(IMAGES_PATH, label))\n",
    "    file_pairs = file_pairs + get_file_pairs(path)\n",
    "random_copy(file_pairs, train_path, test_path, 0.2)"
   ]
  },
  {
   "cell_type": "markdown",
   "metadata": {},
   "source": [
    "# OPTIONAL - 7. Compress them for Colab Training"
   ]
  },
  {
   "cell_type": "code",
   "execution_count": 20,
   "metadata": {},
   "outputs": [],
   "source": [
    "TRAIN_PATH = os.path.join('Tensorflow', 'workspace', 'images', 'train')\n",
    "TEST_PATH = os.path.join('Tensorflow', 'workspace', 'images', 'test')\n",
    "ARCHIVE_PATH = os.path.join('Tensorflow', 'workspace', 'images', 'archive.tar.gz')"
   ]
  },
  {
   "cell_type": "code",
   "execution_count": 21,
   "metadata": {},
   "outputs": [],
   "source": [
    "!tar -czf {ARCHIVE_PATH} {TRAIN_PATH} {TEST_PATH}"
   ]
  },
  {
   "cell_type": "code",
   "execution_count": null,
   "metadata": {},
   "outputs": [],
   "source": []
  }
 ],
 "metadata": {
  "kernelspec": {
   "display_name": "tfod",
   "language": "python",
   "name": "python3"
  },
  "language_info": {
   "codemirror_mode": {
    "name": "ipython",
    "version": 3
   },
   "file_extension": ".py",
   "mimetype": "text/x-python",
   "name": "python",
   "nbconvert_exporter": "python",
   "pygments_lexer": "ipython3",
   "version": "3.11.6"
  }
 },
 "nbformat": 4,
 "nbformat_minor": 2
}
